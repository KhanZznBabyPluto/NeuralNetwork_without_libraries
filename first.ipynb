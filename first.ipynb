{
 "cells": [
  {
   "cell_type": "code",
   "execution_count": 24,
   "metadata": {},
   "outputs": [],
   "source": [
    "from builtins import range\n",
    "\n",
    "import gym\n",
    "\n",
    "import numpy as np\n",
    "\n",
    "import matplotlib.pyplot as plt"
   ]
  },
  {
   "cell_type": "code",
   "execution_count": 34,
   "metadata": {},
   "outputs": [],
   "source": [
    "def get_actions(s, weigths):\n",
    "    return 1 if s.dot(weigths) > 0 else 0"
   ]
  },
  {
   "cell_type": "code",
   "execution_count": 26,
   "metadata": {},
   "outputs": [],
   "source": [
    "def play_one_episode(env, params):\n",
    "    observation = env.reset()\n",
    "\n",
    "    done = False\n",
    "\n",
    "    steps = 0\n",
    "\n",
    "    while not done and steps < 10000:\n",
    "        steps += 1\n",
    "\n",
    "        action = get_actions(observation, params)\n",
    "\n",
    "        observation, reward, done, info = env.step(action)\n",
    "\n",
    "    return steps"
   ]
  },
  {
   "cell_type": "code",
   "execution_count": 27,
   "metadata": {},
   "outputs": [],
   "source": [
    "def play_multiple_episodes(env, count, params):\n",
    "    episode_lenghts = np.empty(count)\n",
    "    \n",
    "    for i in range(count):\n",
    "        episode_lenghts[i] = play_one_episode(env, params)\n",
    "\n",
    "    avg_lenght = episode_lenghts.mean()\n",
    "\n",
    "    print(f'average lenght is {avg_lenght}')\n",
    "\n",
    "    return avg_lenght"
   ]
  },
  {
   "cell_type": "code",
   "execution_count": 30,
   "metadata": {},
   "outputs": [],
   "source": [
    "def random_search(env):\n",
    "    episode_lenghts = []\n",
    "\n",
    "    best = 0\n",
    "\n",
    "    params = None\n",
    "\n",
    "    for t in range(100):\n",
    "\n",
    "        new_params = np.random.random(4)*2-1\n",
    "\n",
    "        avg_lenght = play_multiple_episodes(env, 100, new_params)\n",
    "\n",
    "        episode_lenghts.append(avg_lenght)\n",
    "\n",
    "        if avg_lenght > best:\n",
    "            best = avg_lenght\n",
    "\n",
    "            params = new_params\n",
    "        \n",
    "    return episode_lenghts, params\n"
   ]
  },
  {
   "cell_type": "code",
   "execution_count": 35,
   "metadata": {},
   "outputs": [
    {
     "ename": "AttributeError",
     "evalue": "'tuple' object has no attribute 'dot'",
     "output_type": "error",
     "traceback": [
      "\u001b[1;31m---------------------------------------------------------------------------\u001b[0m",
      "\u001b[1;31mAttributeError\u001b[0m                            Traceback (most recent call last)",
      "\u001b[1;32mc:\\Users\\yastr\\Documents\\VScode\\Projects\\Projects Python\\Pendulum testing\\first.ipynb Cell 6\u001b[0m line \u001b[0;36m5\n\u001b[0;32m      <a href='vscode-notebook-cell:/c%3A/Users/yastr/Documents/VScode/Projects/Projects%20Python/Pendulum%20testing/first.ipynb#W1sZmlsZQ%3D%3D?line=1'>2</a>\u001b[0m problem \u001b[39m=\u001b[39m \u001b[39m'\u001b[39m\u001b[39mCartPole-v1\u001b[39m\u001b[39m'\u001b[39m\n\u001b[0;32m      <a href='vscode-notebook-cell:/c%3A/Users/yastr/Documents/VScode/Projects/Projects%20Python/Pendulum%20testing/first.ipynb#W1sZmlsZQ%3D%3D?line=2'>3</a>\u001b[0m env \u001b[39m=\u001b[39m gym\u001b[39m.\u001b[39mmake(problem)\n\u001b[1;32m----> <a href='vscode-notebook-cell:/c%3A/Users/yastr/Documents/VScode/Projects/Projects%20Python/Pendulum%20testing/first.ipynb#W1sZmlsZQ%3D%3D?line=4'>5</a>\u001b[0m episode_lenght, params \u001b[39m=\u001b[39m random_search(env)\n\u001b[0;32m      <a href='vscode-notebook-cell:/c%3A/Users/yastr/Documents/VScode/Projects/Projects%20Python/Pendulum%20testing/first.ipynb#W1sZmlsZQ%3D%3D?line=6'>7</a>\u001b[0m plt\u001b[39m.\u001b[39mplot(episode_lenght)\n\u001b[0;32m      <a href='vscode-notebook-cell:/c%3A/Users/yastr/Documents/VScode/Projects/Projects%20Python/Pendulum%20testing/first.ipynb#W1sZmlsZQ%3D%3D?line=7'>8</a>\u001b[0m plt\u001b[39m.\u001b[39mtitle(\u001b[39m'\u001b[39m\u001b[39mRandom search method results\u001b[39m\u001b[39m'\u001b[39m)\n",
      "\u001b[1;32mc:\\Users\\yastr\\Documents\\VScode\\Projects\\Projects Python\\Pendulum testing\\first.ipynb Cell 6\u001b[0m line \u001b[0;36m1\n\u001b[0;32m      <a href='vscode-notebook-cell:/c%3A/Users/yastr/Documents/VScode/Projects/Projects%20Python/Pendulum%20testing/first.ipynb#W1sZmlsZQ%3D%3D?line=7'>8</a>\u001b[0m \u001b[39mfor\u001b[39;00m t \u001b[39min\u001b[39;00m \u001b[39mrange\u001b[39m(\u001b[39m100\u001b[39m):\n\u001b[0;32m     <a href='vscode-notebook-cell:/c%3A/Users/yastr/Documents/VScode/Projects/Projects%20Python/Pendulum%20testing/first.ipynb#W1sZmlsZQ%3D%3D?line=9'>10</a>\u001b[0m     new_params \u001b[39m=\u001b[39m np\u001b[39m.\u001b[39mrandom\u001b[39m.\u001b[39mrandom(\u001b[39m4\u001b[39m)\u001b[39m*\u001b[39m\u001b[39m2\u001b[39m\u001b[39m-\u001b[39m\u001b[39m1\u001b[39m\n\u001b[1;32m---> <a href='vscode-notebook-cell:/c%3A/Users/yastr/Documents/VScode/Projects/Projects%20Python/Pendulum%20testing/first.ipynb#W1sZmlsZQ%3D%3D?line=11'>12</a>\u001b[0m     avg_lenght \u001b[39m=\u001b[39m play_multiple_episodes(env, \u001b[39m100\u001b[39;49m, new_params)\n\u001b[0;32m     <a href='vscode-notebook-cell:/c%3A/Users/yastr/Documents/VScode/Projects/Projects%20Python/Pendulum%20testing/first.ipynb#W1sZmlsZQ%3D%3D?line=13'>14</a>\u001b[0m     episode_lenghts\u001b[39m.\u001b[39mappend(avg_lenght)\n\u001b[0;32m     <a href='vscode-notebook-cell:/c%3A/Users/yastr/Documents/VScode/Projects/Projects%20Python/Pendulum%20testing/first.ipynb#W1sZmlsZQ%3D%3D?line=15'>16</a>\u001b[0m     \u001b[39mif\u001b[39;00m avg_lenght \u001b[39m>\u001b[39m best:\n",
      "\u001b[1;32mc:\\Users\\yastr\\Documents\\VScode\\Projects\\Projects Python\\Pendulum testing\\first.ipynb Cell 6\u001b[0m line \u001b[0;36m5\n\u001b[0;32m      <a href='vscode-notebook-cell:/c%3A/Users/yastr/Documents/VScode/Projects/Projects%20Python/Pendulum%20testing/first.ipynb#W1sZmlsZQ%3D%3D?line=1'>2</a>\u001b[0m episode_lenghts \u001b[39m=\u001b[39m np\u001b[39m.\u001b[39mempty(count)\n\u001b[0;32m      <a href='vscode-notebook-cell:/c%3A/Users/yastr/Documents/VScode/Projects/Projects%20Python/Pendulum%20testing/first.ipynb#W1sZmlsZQ%3D%3D?line=3'>4</a>\u001b[0m \u001b[39mfor\u001b[39;00m i \u001b[39min\u001b[39;00m \u001b[39mrange\u001b[39m(count):\n\u001b[1;32m----> <a href='vscode-notebook-cell:/c%3A/Users/yastr/Documents/VScode/Projects/Projects%20Python/Pendulum%20testing/first.ipynb#W1sZmlsZQ%3D%3D?line=4'>5</a>\u001b[0m     episode_lenghts[i] \u001b[39m=\u001b[39m play_one_episode(env, params)\n\u001b[0;32m      <a href='vscode-notebook-cell:/c%3A/Users/yastr/Documents/VScode/Projects/Projects%20Python/Pendulum%20testing/first.ipynb#W1sZmlsZQ%3D%3D?line=6'>7</a>\u001b[0m avg_lenght \u001b[39m=\u001b[39m episode_lenghts\u001b[39m.\u001b[39mmean()\n\u001b[0;32m      <a href='vscode-notebook-cell:/c%3A/Users/yastr/Documents/VScode/Projects/Projects%20Python/Pendulum%20testing/first.ipynb#W1sZmlsZQ%3D%3D?line=8'>9</a>\u001b[0m \u001b[39mprint\u001b[39m(\u001b[39mf\u001b[39m\u001b[39m'\u001b[39m\u001b[39maverage lenght is \u001b[39m\u001b[39m{\u001b[39;00mavg_lenght\u001b[39m}\u001b[39;00m\u001b[39m'\u001b[39m)\n",
      "\u001b[1;32mc:\\Users\\yastr\\Documents\\VScode\\Projects\\Projects Python\\Pendulum testing\\first.ipynb Cell 6\u001b[0m line \u001b[0;36m1\n\u001b[0;32m      <a href='vscode-notebook-cell:/c%3A/Users/yastr/Documents/VScode/Projects/Projects%20Python/Pendulum%20testing/first.ipynb#W1sZmlsZQ%3D%3D?line=7'>8</a>\u001b[0m \u001b[39mwhile\u001b[39;00m \u001b[39mnot\u001b[39;00m done \u001b[39mand\u001b[39;00m steps \u001b[39m<\u001b[39m \u001b[39m10000\u001b[39m:\n\u001b[0;32m      <a href='vscode-notebook-cell:/c%3A/Users/yastr/Documents/VScode/Projects/Projects%20Python/Pendulum%20testing/first.ipynb#W1sZmlsZQ%3D%3D?line=8'>9</a>\u001b[0m     steps \u001b[39m+\u001b[39m\u001b[39m=\u001b[39m \u001b[39m1\u001b[39m\n\u001b[1;32m---> <a href='vscode-notebook-cell:/c%3A/Users/yastr/Documents/VScode/Projects/Projects%20Python/Pendulum%20testing/first.ipynb#W1sZmlsZQ%3D%3D?line=10'>11</a>\u001b[0m     action \u001b[39m=\u001b[39m get_actions(observation, params)\n\u001b[0;32m     <a href='vscode-notebook-cell:/c%3A/Users/yastr/Documents/VScode/Projects/Projects%20Python/Pendulum%20testing/first.ipynb#W1sZmlsZQ%3D%3D?line=12'>13</a>\u001b[0m     observation, reward, done, info \u001b[39m=\u001b[39m env\u001b[39m.\u001b[39mstep(action)\n\u001b[0;32m     <a href='vscode-notebook-cell:/c%3A/Users/yastr/Documents/VScode/Projects/Projects%20Python/Pendulum%20testing/first.ipynb#W1sZmlsZQ%3D%3D?line=14'>15</a>\u001b[0m \u001b[39mreturn\u001b[39;00m steps\n",
      "\u001b[1;32mc:\\Users\\yastr\\Documents\\VScode\\Projects\\Projects Python\\Pendulum testing\\first.ipynb Cell 6\u001b[0m line \u001b[0;36m2\n\u001b[0;32m      <a href='vscode-notebook-cell:/c%3A/Users/yastr/Documents/VScode/Projects/Projects%20Python/Pendulum%20testing/first.ipynb#W1sZmlsZQ%3D%3D?line=0'>1</a>\u001b[0m \u001b[39mdef\u001b[39;00m \u001b[39mget_actions\u001b[39m(s, weigths):\n\u001b[1;32m----> <a href='vscode-notebook-cell:/c%3A/Users/yastr/Documents/VScode/Projects/Projects%20Python/Pendulum%20testing/first.ipynb#W1sZmlsZQ%3D%3D?line=1'>2</a>\u001b[0m     \u001b[39mreturn\u001b[39;00m \u001b[39m1\u001b[39m \u001b[39mif\u001b[39;00m s\u001b[39m.\u001b[39;49mdot(weigths) \u001b[39m>\u001b[39m \u001b[39m0\u001b[39m \u001b[39melse\u001b[39;00m \u001b[39m0\u001b[39m\n",
      "\u001b[1;31mAttributeError\u001b[0m: 'tuple' object has no attribute 'dot'"
     ]
    }
   ],
   "source": [
    "if __name__ == '__main__':\n",
    "    problem = 'CartPole-v1'\n",
    "    env = gym.make(problem)\n",
    "\n",
    "    episode_lenght, params = random_search(env)\n",
    "\n",
    "    plt.plot(episode_lenght)\n",
    "    plt.title('Random search method results')\n",
    "    plt.show()\n",
    "\n",
    "    play_multiple_episodes(env, 100, params)"
   ]
  },
  {
   "cell_type": "code",
   "execution_count": null,
   "metadata": {},
   "outputs": [],
   "source": []
  }
 ],
 "metadata": {
  "kernelspec": {
   "display_name": "Python 3",
   "language": "python",
   "name": "python3"
  },
  "language_info": {
   "codemirror_mode": {
    "name": "ipython",
    "version": 3
   },
   "file_extension": ".py",
   "mimetype": "text/x-python",
   "name": "python",
   "nbconvert_exporter": "python",
   "pygments_lexer": "ipython3",
   "version": "3.11.1"
  }
 },
 "nbformat": 4,
 "nbformat_minor": 2
}
